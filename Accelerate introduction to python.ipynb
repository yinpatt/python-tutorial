{
 "cells": [
  {
   "cell_type": "markdown",
   "metadata": {},
   "source": [
    "<img src=\"https://pbs.twimg.com/profile_images/811501827363520512/zhuGojAu.jpg\" />"
   ]
  },
  {
   "cell_type": "markdown",
   "metadata": {},
   "source": [
    "<h1><center>Python Weekend Crash Course</center></h1>\n",
    "<h6><center>Written by Patrick Leung</center></h6>"
   ]
  },
  {
   "cell_type": "markdown",
   "metadata": {},
   "source": [
    "# Welcome to the jupyter notebook!"
   ]
  },
  {
   "cell_type": "markdown",
   "metadata": {},
   "source": [
    "Jupyter notebook is previously called IPython Notebook ( http://ipython.org/notebook.html ). It is a web based extension of iPython.  It's very powerful and convenient and It allows you to mix code, annotation, text, figures into a single interactive document.\n",
    "IPython is included in all of the most popular python distributions, like Anaconda , or Canopy. If you have one of those distributions installed on your computer, you can already start using the notebook."
   ]
  },
  {
   "cell_type": "markdown",
   "metadata": {},
   "source": [
    "What are we doing today?\n",
    "\n",
    "* a few general words about python. \n",
    "* python as a calculator\n",
    "* how to assign variables \n",
    "* how to do simple input output : print to screen, read from keyboard\n",
    "* how to operate with strings \n",
    "* how to access the documentation\n",
    "* \"if\" statements ( if we have time )\n",
    "\n",
    "Bonus ( only if we are really really fast ):\n",
    "\n",
    "* a few words about lists\n",
    "* \"for\" statements "
   ]
  },
  {
   "cell_type": "markdown",
   "metadata": {},
   "source": [
    "# 1.0.0 What is python?"
   ]
  },
  {
   "cell_type": "markdown",
   "metadata": {},
   "source": [
    "* Widely used high-level, interpreted programming language for general-purpose programming\n",
    "* Created by Guido van Rossum and first released in 1991. \n",
    "* Python has a design philosophy that emphasizes code readability that allows programmers to express concepts in fewer lines of code than might be used in languages such as C++ or Java.\n",
    "* The language provides constructs intended to enable writing clear programs on both a small and large scale."
   ]
  },
  {
   "cell_type": "markdown",
   "metadata": {},
   "source": [
    "<img src=\"https://upload.wikimedia.org/wikipedia/commons/thumb/6/66/Guido_van_Rossum_OSCON_2006.jpg/440px-Guido_van_Rossum_OSCON_2006.jpg\" />\n",
    "\n"
   ]
  },
  {
   "cell_type": "markdown",
   "metadata": {},
   "source": [
    "# 1.1.0 What is a programming language?"
   ]
  },
  {
   "cell_type": "markdown",
   "metadata": {},
   "source": [
    "<img src=\"http://cdn.osxdaily.com/wp-content/uploads/2011/05/top-command-sorted-by-cpu-use-610x383.jpg\n",
    "\" />"
   ]
  },
  {
   "cell_type": "markdown",
   "metadata": {},
   "source": [
    "## 1.1.1 Why do we need a computer to help out?"
   ]
  },
  {
   "cell_type": "markdown",
   "metadata": {},
   "source": [
    "<img src=\"http://img.picturequotes.com/2/509/508709/one-good-thing-about-my-computer-it-never-asks-why-quote-1.jpg\" />\n",
    "\n"
   ]
  },
  {
   "cell_type": "markdown",
   "metadata": {},
   "source": [
    "# 1.2.0 Why Python?"
   ]
  },
  {
   "cell_type": "markdown",
   "metadata": {},
   "source": [
    "### 1.2.1 Python is a very popular language"
   ]
  },
  {
   "cell_type": "markdown",
   "metadata": {},
   "source": [
    "<img src=\"https://static1.squarespace.com/static/51361f2fe4b0f24e710af7ae/54b5c35ee4b0b6572f6dac96/54b5c367e4b0226a8ffadefe/1421198184280/codeeval2015.001.jpg?format=750w\" />"
   ]
  },
  {
   "cell_type": "markdown",
   "metadata": {},
   "source": [
    "### 1.2.1 Python is a very clean & elegant language. Look how easy for it to write a program!"
   ]
  },
  {
   "cell_type": "markdown",
   "metadata": {},
   "source": [
    "<img src=\"https://img.devrant.io/devrant/rant/r_672680_SGP4G.jpg\"/>"
   ]
  },
  {
   "cell_type": "markdown",
   "metadata": {},
   "source": [
    "### 1.2.3 Python is a nice language to do data analytics/ data science/ machine learning!"
   ]
  },
  {
   "cell_type": "markdown",
   "metadata": {},
   "source": [
    "<img src=\"https://i.ytimg.com/vi/vISRn5qFrkM/maxresdefault.jpg\" />"
   ]
  },
  {
   "cell_type": "markdown",
   "metadata": {},
   "source": [
    "<img src=\"https://s3.amazonaws.com/assets.datacamp.com/blog_assets/Cheat+Sheets/content_pythonfordatascience.png\" />"
   ]
  },
  {
   "cell_type": "markdown",
   "metadata": {},
   "source": [
    "## 1.3.0 Navigating the jupyter notebook"
   ]
  },
  {
   "cell_type": "markdown",
   "metadata": {},
   "source": [
    "Before starting with real stuff ... a few words on how to navigate the notebook:\n",
    "\n",
    "* There are two main types of cells : Code and Text \n",
    "* In \"code\" cells \"#\" at the beginning of a line marks the line as comment\n",
    "* In \"code\" cells every non commented line is intepreted\n",
    "* you can press \"m\" to access the \"text\" cell, which allow you to use markdown in the cell\n",
    "* Ctrl+Return shortcut to execute a cell\n",
    "* Shift+Return   shortcut to execute a cell and create another one below\n",
    "\n",
    "Here you can find a complete documentation about the notebook. \n",
    "http://ipython.org/ipython-doc/1/interactive/notebook.html\n",
    "In particular have a look at the section about the keyboard shortcuts.\n",
    "\n",
    "\n",
    "Here is a cleaner version for the short cut\n",
    "https://www.cheatography.com/weidadeyue/cheat-sheets/jupyter-notebook/"
   ]
  },
  {
   "cell_type": "markdown",
   "metadata": {},
   "source": [
    "# 1.3.1 A few examples of markdown"
   ]
  },
  {
   "cell_type": "markdown",
   "metadata": {},
   "source": [
    "Markdown are useful for lists, markup and formatting \n",
    "\n",
    "* *italics*\n",
    "* **bold**\n",
    "* `fixed_font`\n",
    "\n",
    "#You can add titles of various size using \"#\" at the beginning of the line\n",
    "# This has just 1 \"#\"\n",
    "## this has 2 \"##\"\n",
    "### this has 3 \"###\"\n",
    "#### this has 4 \"####\"\n",
    "##### this has 5 \"#####\""
   ]
  },
  {
   "cell_type": "code",
   "execution_count": 70,
   "metadata": {},
   "outputs": [
    {
     "name": "stdout",
     "output_type": "stream",
     "text": [
      "hello! This is the first time you execute a python code!\n"
     ]
    }
   ],
   "source": [
    "# Anything that begins with \"#\" is a comment\n",
    "# Try click on this box. You can edit and write this box like any notepad (Try it!)\n",
    "\n",
    "# You can execute the cell by Shift+Enter\n",
    "print('hello! This is the first time you execute a python code!')"
   ]
  },
  {
   "cell_type": "code",
   "execution_count": 88,
   "metadata": {},
   "outputs": [
    {
     "name": "stdout",
     "output_type": "stream",
     "text": [
      "Ctrl + Enter execute the cell, and stay in the cell\n"
     ]
    }
   ],
   "source": [
    "# By clicking shift + enter, jupyter notebook brings you to the next cell. Now try Ctrl + Enter\n",
    "print('Ctrl + Enter execute the cell, and stay in the cell')"
   ]
  },
  {
   "cell_type": "code",
   "execution_count": 89,
   "metadata": {
    "collapsed": true
   },
   "outputs": [],
   "source": [
    "#Now click on this cell. Try click on the edge of the cell, then type a. You just created an empty cell above this cell.\n",
    "#Now, try the same and click b. You just created a cell below.\n",
    "# To delete a cell, click the cell and type dd. I don't recommend you to do that now though....\n"
   ]
  },
  {
   "cell_type": "markdown",
   "metadata": {},
   "source": [
    "\n"
   ]
  },
  {
   "cell_type": "markdown",
   "metadata": {},
   "source": [
    "# 2.0.0 Python as an object oriented language\n"
   ]
  },
  {
   "cell_type": "markdown",
   "metadata": {},
   "source": [
    "<img src=\"http://www.lanl.gov/museum/events/calendar/2015/June/_images/dday.jpg\"/>\n"
   ]
  },
  {
   "cell_type": "markdown",
   "metadata": {},
   "source": [
    "## 2.0.1 What is an object?"
   ]
  },
  {
   "cell_type": "markdown",
   "metadata": {},
   "source": [
    "Everything in Python is an object. Still, this begs the question. What is an object? You can think of it like a variables in mathematics. You can assign any value to this variable. E.g, you can assign:\n",
    "\n",
    "* x = 1\n",
    "* cristano_ronaldo = 'a footballer'\n",
    "* Ultimate_answer_for_everything = 42\n",
    "\n",
    "Why do we want to do this? Because it is a clean and efficient way to manage a large amount of information, especially when the program starts to grow very large. It is sort of like the naming system for military operation or typhoon. For example, It is way cleaner to call it d-day than \"normandy landing in June 6 1944. \n",
    "\n",
    "* d_day = \"normandy landing in June 6 1944\"\n",
    "* hato = 'the #10 typhoon that hits macau in August 2017'\n",
    "\n",
    "In python, it means any value can be assigned to a variable/object, or passed as an argument to a function. (Don't worry about function for now)\n",
    "\n",
    "This is so important that I'm going to repeat it in case you missed it the first few times: everything in Python is an object. Strings are objects. Lists are objects. Functions are objects. Even modules are objects.\n"
   ]
  },
  {
   "cell_type": "markdown",
   "metadata": {},
   "source": [
    "#### 2.0.2 Assign value to an object. \n",
    "Use \"=\" to assign a value to an object. Let's say we want to assign the value 1 to x, then execute the cell by CTRL+ENTER"
   ]
  },
  {
   "cell_type": "code",
   "execution_count": 51,
   "metadata": {
    "collapsed": true
   },
   "outputs": [],
   "source": [
    "#Let's say assign the value 1 to x, then execute the cell by CTRL+ENTER\n",
    "x = 1\n",
    "#From now on, python recognise x is equal to 1"
   ]
  },
  {
   "cell_type": "markdown",
   "metadata": {},
   "source": [
    " Don't put x on the right & do it the other way round! 1=x would give you an error, because python thinks you are assigning x to the integer 1"
   ]
  },
  {
   "cell_type": "code",
   "execution_count": null,
   "metadata": {
    "collapsed": true
   },
   "outputs": [],
   "source": [
    "# This will create an error, called \"SyntaxError\". It means python doesn't understand it! \n",
    "#(You should see this very often from now on)\n",
    "1 = x"
   ]
  },
  {
   "cell_type": "markdown",
   "metadata": {},
   "source": [
    "The value executed will be stored in the memory.  From now on x = 1. You can try execute the cell below, it should return 1, telling you the value of x is 1"
   ]
  },
  {
   "cell_type": "code",
   "execution_count": null,
   "metadata": {
    "collapsed": true
   },
   "outputs": [],
   "source": [
    "x"
   ]
  },
  {
   "cell_type": "markdown",
   "metadata": {},
   "source": [
    "<img src=\"https://tse1.mm.bing.net/th?id=OIP.I7QCS0SfLtoGA-q81cFbygEsEf&w=199&h=190&c=7&qlt=90&o=4&dpr=2&pid=1.7\"/>\n"
   ]
  },
  {
   "cell_type": "markdown",
   "metadata": {},
   "source": [
    "#### 2.0.3 Python is case-sensitive!\n",
    "Try wih capital X? What would you expect? Will the value be the same?"
   ]
  },
  {
   "cell_type": "code",
   "execution_count": null,
   "metadata": {
    "collapsed": true
   },
   "outputs": [],
   "source": [
    "X"
   ]
  },
  {
   "cell_type": "markdown",
   "metadata": {},
   "source": [
    "#### 2.0.4 You can re-assign the value for an object. \n",
    "Let's try to assign another value for x"
   ]
  },
  {
   "cell_type": "code",
   "execution_count": 54,
   "metadata": {
    "collapsed": true
   },
   "outputs": [],
   "source": [
    "# You can assign anything to the variable. \n",
    "x = 'an expensive iphone'"
   ]
  },
  {
   "cell_type": "markdown",
   "metadata": {},
   "source": [
    "#### 2.0.5 Now, try to execute x again on the cell below? You can also try to execute the cell 1.03 above. What would you expect?"
   ]
  },
  {
   "cell_type": "code",
   "execution_count": null,
   "metadata": {
    "collapsed": true
   },
   "outputs": [],
   "source": [
    "x"
   ]
  },
  {
   "cell_type": "markdown",
   "metadata": {},
   "source": [
    "## Exercise 2.0.5  - What is the value of x?"
   ]
  },
  {
   "cell_type": "code",
   "execution_count": null,
   "metadata": {
    "collapsed": true
   },
   "outputs": [],
   "source": [
    "x = 1\n",
    "x = 1 + x\n",
    "print(x)\n",
    "#what is X now?"
   ]
  },
  {
   "cell_type": "markdown",
   "metadata": {},
   "source": [
    "#### 2.0.6 Object can be of any data type. Try execute the cell below"
   ]
  },
  {
   "cell_type": "code",
   "execution_count": 41,
   "metadata": {},
   "outputs": [
    {
     "name": "stdout",
     "output_type": "stream",
     "text": [
      "1\n",
      "100\n",
      "pretty\n"
     ]
    }
   ],
   "source": [
    "x = 1\n",
    "print(x)\n",
    "\n",
    "house_price = 100\n",
    "print(house_price)\n",
    "\n",
    "girlfriend = 'pretty'\n",
    "print(girlfriend)"
   ]
  },
  {
   "cell_type": "code",
   "execution_count": 91,
   "metadata": {},
   "outputs": [
    {
     "data": {
      "text/plain": [
       "'pretty'"
      ]
     },
     "execution_count": 91,
     "metadata": {},
     "output_type": "execute_result"
    }
   ],
   "source": [
    "girlfriend"
   ]
  },
  {
   "cell_type": "markdown",
   "metadata": {},
   "source": [
    "#### 2.0.7 Reserved words - There are a bunch of words that you are not allowed to use\n",
    "This is because they have special meanings in python"
   ]
  },
  {
   "cell_type": "markdown",
   "metadata": {},
   "source": [
    "https://www.programiz.com/python-programming/keywords-identifier"
   ]
  },
  {
   "cell_type": "code",
   "execution_count": null,
   "metadata": {
    "collapsed": true
   },
   "outputs": [],
   "source": [
    "# Don't use these words!! They have special meanings\n",
    "False\n",
    "None\n",
    "and\n",
    "if\n",
    "for\n",
    "from\n",
    "import\n",
    "as\n",
    "is\n",
    "in"
   ]
  },
  {
   "cell_type": "markdown",
   "metadata": {},
   "source": [
    "## 2.1 Data type in python (Integer, Float, String)"
   ]
  },
  {
   "cell_type": "markdown",
   "metadata": {},
   "source": [
    "#### 2.1.1 integer\n",
    "Integer is literally, the integer, e.g 1,2,3,4. You can use type() to check the data type of the variable"
   ]
  },
  {
   "cell_type": "code",
   "execution_count": 57,
   "metadata": {},
   "outputs": [
    {
     "data": {
      "text/plain": [
       "int"
      ]
     },
     "execution_count": 57,
     "metadata": {},
     "output_type": "execute_result"
    }
   ],
   "source": [
    "y = 2\n",
    "type(y)"
   ]
  },
  {
   "cell_type": "markdown",
   "metadata": {},
   "source": [
    "You can also check the data type directly"
   ]
  },
  {
   "cell_type": "code",
   "execution_count": 58,
   "metadata": {},
   "outputs": [
    {
     "data": {
      "text/plain": [
       "int"
      ]
     },
     "execution_count": 58,
     "metadata": {},
     "output_type": "execute_result"
    }
   ],
   "source": [
    "type(2)"
   ]
  },
  {
   "cell_type": "markdown",
   "metadata": {},
   "source": [
    "#### 2.1.2 Float\n",
    "Float is also a number. However float contains more information because it contains decimal place"
   ]
  },
  {
   "cell_type": "code",
   "execution_count": 60,
   "metadata": {},
   "outputs": [
    {
     "data": {
      "text/plain": [
       "float"
      ]
     },
     "execution_count": 60,
     "metadata": {},
     "output_type": "execute_result"
    }
   ],
   "source": [
    "z = 3.1416\n",
    "type(z)"
   ]
  },
  {
   "cell_type": "markdown",
   "metadata": {},
   "source": [
    "You can use int() to transform float to integer, or float() to transform integer to float"
   ]
  },
  {
   "cell_type": "code",
   "execution_count": null,
   "metadata": {
    "collapsed": true
   },
   "outputs": [],
   "source": [
    "int(z)"
   ]
  },
  {
   "cell_type": "markdown",
   "metadata": {},
   "source": [
    "#### 2.1.3 String\n",
    "String can be any character you can find on the keyboard, as long as it can be bound within \" or '."
   ]
  },
  {
   "cell_type": "code",
   "execution_count": 62,
   "metadata": {
    "collapsed": true
   },
   "outputs": [],
   "source": [
    "this_is_a_string = 'Patrick'\n",
    "this_is_also_a_string = \"$%%^&*()njfnksdjfsdyftuy32uygsjdhfbmnasd\"\n",
    "number_can_also_be_string = \"123456\""
   ]
  },
  {
   "cell_type": "code",
   "execution_count": null,
   "metadata": {
    "collapsed": true
   },
   "outputs": [],
   "source": [
    "#Anything within a \" or ' will be a string\n",
    "myname = \"Patrick\"\n",
    "type(myname)"
   ]
  },
  {
   "cell_type": "markdown",
   "metadata": {},
   "source": [
    "String can be concatenated by using +"
   ]
  },
  {
   "cell_type": "code",
   "execution_count": null,
   "metadata": {
    "collapsed": true
   },
   "outputs": [],
   "source": [
    "#example\n",
    "firstname  = 'Cristiano'\n",
    "lastname = 'Ronaldo'\n",
    "\n",
    "fullname = firstname + lastname\n",
    "fullname"
   ]
  },
  {
   "cell_type": "markdown",
   "metadata": {},
   "source": [
    "Remember, string tend to contain less information. It doesn't treat numbers inside a string as numbers. What would you expect to see below?"
   ]
  },
  {
   "cell_type": "code",
   "execution_count": null,
   "metadata": {
    "collapsed": true
   },
   "outputs": [],
   "source": [
    "one = '1'\n",
    "two = '2'\n",
    "one+two"
   ]
  },
  {
   "cell_type": "markdown",
   "metadata": {},
   "source": [
    "You can use str() to transform float or int to string"
   ]
  },
  {
   "cell_type": "code",
   "execution_count": 99,
   "metadata": {},
   "outputs": [
    {
     "data": {
      "text/plain": [
       "3.0"
      ]
     },
     "execution_count": 99,
     "metadata": {},
     "output_type": "execute_result"
    }
   ],
   "source": [
    "float(one) + int(two)"
   ]
  },
  {
   "cell_type": "markdown",
   "metadata": {},
   "source": [
    "<img src=\"http://ivl-net.eu/wp-content/uploads/2015/04/workshops-chalkboard.jpg\"/>\n"
   ]
  },
  {
   "cell_type": "markdown",
   "metadata": {},
   "source": [
    "# 2.1 Exercise - Work out your full name\n",
    "1. Try input your first name and last name in the variable, and work out your full name\n",
    "2. Now, realize there is no space between your name? Can you amend the code so there is a space?\n",
    "3. Type in your age, and assign it as integer to the age variable\n",
    "4. complete the code so it prints out \"[Yourname] is now [age] years old\".\n",
    "e.g Cristiano Ronadlo is now 32 years old"
   ]
  },
  {
   "cell_type": "code",
   "execution_count": null,
   "metadata": {
    "collapsed": true
   },
   "outputs": [],
   "source": [
    "#exercise: Try input your first name and last name in the variable\n",
    "\n",
    "firstname  = ''\n",
    "lastname = ''\n",
    "\n",
    "fullname = firstname + lastname\n",
    "print(fullname)\n",
    "\n",
    "#How do we add a space in between?\n",
    "\n",
    "age = 32\n",
    "print(fullname + ' is now ' + 'years old.')"
   ]
  },
  {
   "cell_type": "markdown",
   "metadata": {},
   "source": [
    "# 3.0.0 Operating with Numbers"
   ]
  },
  {
   "cell_type": "markdown",
   "metadata": {},
   "source": [
    "## 3.0.1 Sum"
   ]
  },
  {
   "cell_type": "markdown",
   "metadata": {},
   "source": [
    "<img src=\"https://i-cdn.phonearena.com/images/article/98010-thumb/The-fall-2017-Apple-iPhone-lineup-we-now-have-8-iPhones-to-choose-from-more-than-ever-before.jpg\"/>"
   ]
  },
  {
   "cell_type": "code",
   "execution_count": 36,
   "metadata": {},
   "outputs": [
    {
     "data": {
      "text/plain": [
       "13"
      ]
     },
     "execution_count": 36,
     "metadata": {},
     "output_type": "execute_result"
    }
   ],
   "source": [
    "#you can use it like a calculator. Try 6+7? you should be expecting 13?\n",
    "6+7"
   ]
  },
  {
   "cell_type": "code",
   "execution_count": null,
   "metadata": {
    "collapsed": true
   },
   "outputs": [],
   "source": [
    "#Let's say I want to know how much to does it cost to the buy whole set of iphone\n",
    "iphoneX = 9998\n",
    "airpods = 1288\n",
    "price_for_new_iphone = iphoneX + airpods\n",
    "price_for_new_iphone"
   ]
  },
  {
   "cell_type": "markdown",
   "metadata": {},
   "source": [
    "# Exercise 3.0.1 - Cost of Samsung S8\n",
    "Using the previous example, now that samsung s8 cost $5200. \n",
    "1. Assign 5200 to samsung_s8\n",
    "2. Assign 0 to normal_headphone (becoz we already have one)\n",
    "3. findout how much in total to buy samsung s8 & normal_headphone? asign it to variable called price_for_new_samsung"
   ]
  },
  {
   "cell_type": "code",
   "execution_count": null,
   "metadata": {
    "collapsed": true
   },
   "outputs": [],
   "source": [
    "#Your code in here!\n",
    "\n"
   ]
  },
  {
   "cell_type": "markdown",
   "metadata": {},
   "source": [
    "## 3.0.2 subtraction"
   ]
  },
  {
   "cell_type": "markdown",
   "metadata": {},
   "source": [
    "<img src=\"http://na.signwiki.org/images/public/d/db/Subtraction.gif\"/>"
   ]
  },
  {
   "cell_type": "code",
   "execution_count": null,
   "metadata": {
    "collapsed": true
   },
   "outputs": [],
   "source": [
    "# You can also do calculation like excel\n",
    "6-7\n",
    "11-9"
   ]
  },
  {
   "cell_type": "code",
   "execution_count": null,
   "metadata": {
    "collapsed": true
   },
   "outputs": [],
   "source": [
    "## read interactive input \n",
    "a=input(\"enter the first number: \" )\n",
    "b=input(\"enter the second number: \")\n",
    "print \"a-b =\",a+b"
   ]
  },
  {
   "cell_type": "code",
   "execution_count": null,
   "metadata": {
    "collapsed": true
   },
   "outputs": [],
   "source": [
    "#example\n",
    "\n",
    "#Assign 2017 to a variable called THISYEAR, \n",
    "THISYEAR = 2017\n",
    "#Assign the year of your birthday to  a variable called BIRTHYEAR\n",
    "BIRTHYEAR =    \n",
    "\n",
    "#work out your age by substracting BIRTHYEAR by THISYEAR\n",
    "age = THISYEAR-BIRTHYEAR\n",
    "print(age)"
   ]
  },
  {
   "cell_type": "markdown",
   "metadata": {},
   "source": [
    "<img src=\"http://cdn1.knowyourmobile.com/sites/knowyourmobilecom/files/styles/gallery_wide/public/2016/02/screen_shot_2016-02-22_at_4.48.09_pm.jpg?itok=H2I28t7Q\"/>\n",
    "\n"
   ]
  },
  {
   "cell_type": "markdown",
   "metadata": {},
   "source": [
    "# Exercise 3.0.2  - Iphone vs Samsung\n",
    "Using the previous example, you have the price to buy samsung s8. Find out how much more expensive are iphone, compare to samsung?\n",
    "1. Create a new object called price_for_new_samsung\n",
    "2. we already have an object called price_for_new_iphone\n",
    "3. execute price_for_new_iphone - price_for_new_samsung, and assign to a variable called \"money_saved\"\n"
   ]
  },
  {
   "cell_type": "code",
   "execution_count": null,
   "metadata": {
    "collapsed": true
   },
   "outputs": [],
   "source": [
    "#Your code in here!\n"
   ]
  },
  {
   "cell_type": "markdown",
   "metadata": {},
   "source": [
    "### 3.0.3 multiplication"
   ]
  },
  {
   "cell_type": "code",
   "execution_count": null,
   "metadata": {
    "collapsed": true
   },
   "outputs": [],
   "source": [
    "7*6"
   ]
  },
  {
   "cell_type": "code",
   "execution_count": 104,
   "metadata": {},
   "outputs": [
    {
     "name": "stdout",
     "output_type": "stream",
     "text": [
      "780.0\n"
     ]
    }
   ],
   "source": [
    "#exercise\n",
    "\n",
    "#let's assign 7.8 to a variable called exchange_rate\n",
    "exchange_rate = 7.8\n",
    "#Assign 100 to a variable called usd\n",
    "usd = 100   \n",
    "\n",
    "#workout how much hkd is worth of 100 usd\n",
    "hkd = exchange_rate*usd\n",
    "print(hkd)"
   ]
  },
  {
   "cell_type": "markdown",
   "metadata": {},
   "source": [
    "# Exercise 3.0.3 - HKD & USD\n",
    "Using the previous example, can you try to convert hkd back to usd?"
   ]
  },
  {
   "cell_type": "code",
   "execution_count": null,
   "metadata": {
    "collapsed": true
   },
   "outputs": [],
   "source": [
    "#your code here!\n"
   ]
  },
  {
   "cell_type": "markdown",
   "metadata": {},
   "source": [
    "### 3.0.4 divison"
   ]
  },
  {
   "cell_type": "code",
   "execution_count": null,
   "metadata": {
    "collapsed": true
   },
   "outputs": [],
   "source": [
    "\n",
    "## note that we are doing calculation among integers\n",
    "6/7\n",
    "## let's make sure that the interpreter understands we want to use floating point\n",
    "6./7\n",
    "## You don't need to define the type of variable. The interpreter will guess.\n",
    "a=6\n",
    "b=7\n",
    "print(a*b , a+b, a-b, a/b) \n",
    "\n",
    "## As in the previous example, if one element is floating point, the interpreter will do an automatic cast\n",
    "print \n",
    "a=6.   ## this is now float\n",
    "b=7\n",
    "print(a*b , a+b, a-b, a/b) "
   ]
  },
  {
   "cell_type": "markdown",
   "metadata": {},
   "source": [
    "### 3.0.5 Play around with logic!"
   ]
  },
  {
   "cell_type": "markdown",
   "metadata": {},
   "source": [
    " == means checking whether if they equal"
   ]
  },
  {
   "cell_type": "code",
   "execution_count": 205,
   "metadata": {},
   "outputs": [
    {
     "data": {
      "text/plain": [
       "True"
      ]
     },
     "execution_count": 205,
     "metadata": {},
     "output_type": "execute_result"
    }
   ],
   "source": [
    "x = 1\n",
    "x ==1 # Check if x equals one"
   ]
  },
  {
   "cell_type": "markdown",
   "metadata": {},
   "source": [
    " != means check if they don't equal"
   ]
  },
  {
   "cell_type": "code",
   "execution_count": 206,
   "metadata": {},
   "outputs": [
    {
     "data": {
      "text/plain": [
       "False"
      ]
     },
     "execution_count": 206,
     "metadata": {},
     "output_type": "execute_result"
    }
   ],
   "source": [
    "x!=1"
   ]
  },
  {
   "cell_type": "code",
   "execution_count": null,
   "metadata": {},
   "outputs": [],
   "source": [
    "## Some basic logic operators \n",
    "a = 2 \n",
    "b = 3 \n",
    "print \"a = \" ,a \n",
    "print \"b = \" ,b\n",
    "\n",
    "## == stands for \"is equal to\"  \n",
    "## be careful and do not confuse \n",
    "## ==  which is an operator that compares the two operand\n",
    "## with = , which is an assignment operator.\n",
    "print \"a == b is \" , a == b \n",
    "\n",
    "## != \"not equal to\" \n",
    "print \"a != b is \" , a != b \n",
    "\n",
    "## greater and smaller than\n",
    "print \"a < b is \" , a < b \n",
    "print \"a > b is \" , a > b\n",
    "\n",
    "## the basic boolean types.\n",
    "print \"True is ... well ... \" , True\n",
    "print  \"...and obviously False is \" , False "
   ]
  },
  {
   "cell_type": "markdown",
   "metadata": {},
   "source": [
    " \">\" and \"<\" means bigger or smaller"
   ]
  },
  {
   "cell_type": "code",
   "execution_count": 207,
   "metadata": {},
   "outputs": [
    {
     "data": {
      "text/plain": [
       "True"
      ]
     },
     "execution_count": 207,
     "metadata": {},
     "output_type": "execute_result"
    }
   ],
   "source": [
    "iphone = 9000\n",
    "samsung = 5000\n",
    "iphone>samsung"
   ]
  },
  {
   "cell_type": "markdown",
   "metadata": {},
   "source": [
    "## Exercise 3.0.5 - check if 1 equals 1.0"
   ]
  },
  {
   "cell_type": "code",
   "execution_count": 209,
   "metadata": {
    "collapsed": true
   },
   "outputs": [],
   "source": [
    "x = 1\n",
    "y = 1.0\n",
    "\n",
    "#Your code here!\n"
   ]
  },
  {
   "cell_type": "markdown",
   "metadata": {},
   "source": [
    "## 4.0.0 Play around with strings"
   ]
  },
  {
   "cell_type": "code",
   "execution_count": 113,
   "metadata": {},
   "outputs": [
    {
     "data": {
      "text/plain": [
       "True"
      ]
     },
     "execution_count": 113,
     "metadata": {},
     "output_type": "execute_result"
    }
   ],
   "source": [
    "## a string is just a sequence of characters within quotes \"\" or '' \n",
    "mystr1 = 'python'\n",
    "mystr2 = \"python\"\n",
    "mystr1==mystr2"
   ]
  },
  {
   "cell_type": "markdown",
   "metadata": {},
   "source": [
    "### 4.0.1 Python can handle long text, or even an entire novel, or even the entire wikipedia!"
   ]
  },
  {
   "cell_type": "code",
   "execution_count": 135,
   "metadata": {},
   "outputs": [
    {
     "name": "stdout",
     "output_type": "stream",
     "text": [
      "Python is a widely used high-level programming language for general-purpose programming, created by Guido van Rossum and first released in 1991\n"
     ]
    }
   ],
   "source": [
    "wiki = \"Python is a widely used high-level programming language for general-purpose programming, created by Guido van Rossum and first released in 1991\"\n",
    "print(wiki)"
   ]
  },
  {
   "cell_type": "markdown",
   "metadata": {},
   "source": [
    "### 4.0.2 Yoy can navigate each letter in the string by using square brackets and index"
   ]
  },
  {
   "cell_type": "code",
   "execution_count": 136,
   "metadata": {},
   "outputs": [
    {
     "name": "stdout",
     "output_type": "stream",
     "text": [
      "h\n"
     ]
    }
   ],
   "source": [
    "print wiki[3]\n",
    "print wiki[-1]\n",
    "print wiki[0:20]"
   ]
  },
  {
   "cell_type": "markdown",
   "metadata": {},
   "source": [
    "### 4.0.3 You can use dir(), help() or ? to seek help from python"
   ]
  },
  {
   "cell_type": "code",
   "execution_count": null,
   "metadata": {},
   "outputs": [],
   "source": [
    "## dir() gives information on the attributes of an object \n",
    "dir(wiki)\n",
    "## to learn more about something we can use help()\n",
    "help(wiki.replace)\n",
    "## or the fancy ipython version \"?\"\n",
    "wiki.replace?"
   ]
  },
  {
   "cell_type": "markdown",
   "metadata": {},
   "source": [
    "### 4.0.4 Some very useful functions to find characters in strings"
   ]
  },
  {
   "cell_type": "code",
   "execution_count": 202,
   "metadata": {},
   "outputs": [
    {
     "name": "stdout",
     "output_type": "stream",
     "text": [
      "0\n",
      "PYTHON IS A WIDELY USED HIGH-LEVEL PROGRAMMING LANGUAGE FOR GENERAL-PURPOSE PROGRAMMING, CREATED BY GUIDO VAN ROSSUM AND FIRST RELEASED IN 1991\n",
      "Python is a widely used low-level programming language for general-purpose programming, created by Guido van Rossum and first released in 1991\n",
      "Python is a widely used high-level programming language for general-purpose programming, created by Guido van Rossum and first released in 1991\n",
      "0\n",
      "False\n",
      "True\n",
      "['Python', 'is', 'a', 'widely', 'used', 'high-level', 'programming', 'language', 'for', 'general-purpose', 'programming,', 'created', 'by', 'Guido', 'van', 'Rossum', 'and', 'first', 'released', 'in', '1991']\n"
     ]
    }
   ],
   "source": [
    "## manipulating strings is very easy \n",
    "\n",
    "## finding the location of a substring\n",
    "print(wiki.find(\"Python\"))\n",
    "\n",
    "## changing to uppercase\n",
    "print(wiki.upper())\n",
    "\n",
    "## replacing substrings\n",
    "print(wiki.replace('high','low'))\n",
    "\n",
    "## these operations do not modify the original string\n",
    "print(wiki)\n",
    "\n",
    "## we can count the occurrences of a letter\n",
    "print(wiki.count('python') )\n",
    "\n",
    "#Lower change all the letters to lower case\n",
    "wiki.lower().count('python')\n",
    "\n",
    "## \"in\" returns a boolean\n",
    "print(\"python\" in wiki)\n",
    "print(\"language\" in wiki)\n",
    "\n",
    "## .split() separates fields \n",
    "print(wiki.split())"
   ]
  },
  {
   "cell_type": "markdown",
   "metadata": {},
   "source": [
    "## Exercise - Change the shape of the song  \"Shape of you\"\n",
    "1. This is a popular song from Ed Sheeran called shape of you. You can listen to it from the youtube link (please wear your airpods, or plug in your earphone if you are not using iphone)\n",
    "2. Count the occurance of the word \"baby\"\n",
    "3. Count the number of words in the entire lyrics\n",
    "4. Replace \"Oh I oh I oh I oh I \" to something else\n",
    "4. find the most frequent word from the paragraph\n",
    "\n",
    "https://www.azlyrics.com/lyrics/edsheeran/shapeofyou.html\n",
    "\n"
   ]
  },
  {
   "cell_type": "code",
   "execution_count": 194,
   "metadata": {},
   "outputs": [
    {
     "name": "stdout",
     "output_type": "stream",
     "text": [
      "The club isn't the best place to find a lover.  So the bar is where I go (mmmm).  Me and my friends at the table doing shots.  Drinking fast and then we talk slow (mmmm).  And you come over and start up a conversation with just me.  And trust me I'll give it a chance now (mmmm).  Take my hand, stop, put Van The Man on the jukebox.  And then we start to dance.  And now I'm singing like.  .  Girl, you know I want your love.  Your love was handmade for somebody like me.  Come on now, follow my lead.  I may be crazy, don't mind me.  Say, boy, let's not talk too much.  Grab on my waist and put that body on me.  Come on now, follow my lead.  Come, come on now, follow my lead (mmmm).  .  I'm in love with the shape of you.  We push and pull like a magnet do.  Although my heart is falling too.  I'm in love with your body.  Last night you were in my room.  And now my bedsheets smell like you.  Every day discovering something brand new.  I'm in love with your body.  .  Oh I oh I oh I oh I.  I'm in love with your body.  Oh I oh I oh I oh I.  I'm in love with your body.  Oh I oh I oh I oh I.  I'm in love with your body.  Every day discovering something brand new.  I'm in love with the shape of you.  .  One week in we let the story begin.  We're going out on our first date (mmmm).  You and me are thrifty, so go all you can eat.  Fill up your bag and I fill up a plate (mmmm).  We talk for hours and hours about the sweet and the sour.  And how your family is doing okay (mmmm).  And leave and get in a taxi, then kiss in the backseat.  Tell the driver make the radio play.  And I'm singing like.  .  Girl, you know I want your love.  Your love was handmade for somebody like me.  Come on now, follow my lead.  I may be crazy, don't mind me.  Say, boy, let's not talk too much.  Grab on my waist and put that body on me.  Come on now, follow my lead.  Come, come on now, follow my lead (mmmm).  .  I'm in love with the shape of you.  We push and pull like a magnet do.  Although my heart is falling too.  I'm in love with your body.  Last night you were in my room.  And now my bedsheets smell like you.  Every day discovering something brand new.  I'm in love with your body.  .  Oh I oh I oh I oh I.  I'm in love with your body.  Oh I oh I oh I oh I.  I'm in love with your body.  Oh I oh I oh I oh I.  I'm in love with your body.  Every day discovering something brand new.  I'm in love with the shape of you.  .  Come on, be my baby, come on.  Come on, be my baby, come on.  Come on, be my baby, come on.  Come on, be my baby, come on.  Come on, be my baby, come on.  Come on, be my baby, come on.  Come on, be my baby, come on.  Come on, be my baby, come on.  .  I'm in love with the shape of you.  We push and pull like a magnet do.  Although my heart is falling too.  I'm in love with your body.  Last night you were in my room.  And now my bedsheets smell like you.  Every day discovering something brand new.  I'm in love with your body.  .  Come on, be my baby, come on.  Come on, be my baby, come on.  I'm in love with your body.  Come on, be my baby, come on.  Come on, be my baby, come on.  I'm in love with your body.  Come on, be my baby, come on.  Come on, be my baby, come on.  I'm in love with your body.  Every day discovering something brand new.  I'm in love with the shape of you\n"
     ]
    },
    {
     "data": {
      "image/jpeg": "[encoded data removed]",
      "text/html": [
       "\n",
       "        <iframe\n",
       "            width=\"400\"\n",
       "            height=\"300\"\n",
       "            src=\"https://www.youtube.com/embed/JGwWNGJdvx8\"\n",
       "            frameborder=\"0\"\n",
       "            allowfullscreen\n",
       "        ></iframe>\n",
       "        "
      ],
      "text/plain": [
       "<IPython.lib.display.YouTubeVideo at 0x10baf9ad0>"
      ]
     },
     "execution_count": 194,
     "metadata": {},
     "output_type": "execute_result"
    }
   ],
   "source": [
    "from IPython.display import YouTubeVideo\n",
    "#import urllib2  # the lib that handles the url stuff\n",
    "#\n",
    "#data = urllib2.urlopen('https://00e9e64bacf6e0e64751a6e5a0c2cd135ec020252fdfa8858d-apidata.googleusercontent.com/download/storage/v1/b/bwdb/o/acceleratehk%2Fpython_class%2Fshape_of_you.txt?qk=AD5uMEvoreq5AO2jx0fJIMdexon1mQKCVuWsSxJ80vJS_oIeyJzHdSJU8fnx8r9HBVadcskZW13iMqbiyT9PJVUJoScpWVzdBJnVuS9EHdbSYt_IDJHi4KRUiRokEEjAlj_cHF0Fx9KleB44kLdBj7WA3O7E5j41fNOz85x16FuR0B7v53me0_qcwwGkunVAbJ9JwNyTwyW-oV67-qnax3LiHrTyjSBa35vLDTXq_LwJmV72DYTZRzD4I0RQHercrc1GF74-O3UcpWDV6_FYx4jUyICOYzAq_0Hl7N2hfMhOt4njjpcxn7x2IL9uy9_Br_zvx3XnlxdKQRZ1v_uMYzM8LH_7MDT4S0mH_QRFdu6kLl37cM65dn_KhnLobmty_BH9mBWN057oD6lsbJGMoQ6__jw8YtRSRC0ir3yjNcnp0w7PebOtAVTsnyXTdS3RpBsN6xen3B-1yxDJbd9r-auw5Io_OKz088UtzdlBc9VmDtVmJIT_TWpLGlrKpjNB6y28m_rNCgLsUGj4IrYTEko72ISrcPYCHJthbzL1uOf1-BHSn66J651Pv2cva19WIsy1oHwH0R750POlCIZOcGMLuk8LFegHunO-ZGiL-LKXDrFCYDB_Q_iHPqfRpCF1Ybnd3owihE6FZ9zCmoNc3k2KXnR6qnzAi3p2jHLZ69ny7pE0CcM9LLBXJSXaS9E12a_a2T34xnXMvsltE9OSPyViQH520oOXsy5T-3-Eb_MmRebRmZwjcwey60Q0uYPnNPfdBCLFb7x6tlb0eChSv2uz3ufLuH1fKw')\n",
    "#shape_of_you = []\n",
    "#for line in data: # files are iterable\n",
    "#    shape_of_you.append(line)\n",
    "#shape_of_you = ' '.join(shape_of_you)\n",
    "#shape_of_you = shape_of_you.replace('\\n', '. ')\n",
    "\n",
    "shape_of_you = \"The club isn't the best place to find a lover.  So the bar is where I go (mmmm).  Me and my friends at the table doing shots.  Drinking fast and then we talk slow (mmmm).  And you come over and start up a conversation with just me.  And trust me I'll give it a chance now (mmmm).  Take my hand, stop, put Van The Man on the jukebox.  And then we start to dance.  And now I'm singing like.  .  Girl, you know I want your love.  Your love was handmade for somebody like me.  Come on now, follow my lead.  I may be crazy, don't mind me.  Say, boy, let's not talk too much.  Grab on my waist and put that body on me.  Come on now, follow my lead.  Come, come on now, follow my lead (mmmm).  .  I'm in love with the shape of you.  We push and pull like a magnet do.  Although my heart is falling too.  I'm in love with your body.  Last night you were in my room.  And now my bedsheets smell like you.  Every day discovering something brand new.  I'm in love with your body.  .  Oh I oh I oh I oh I.  I'm in love with your body.  Oh I oh I oh I oh I.  I'm in love with your body.  Oh I oh I oh I oh I.  I'm in love with your body.  Every day discovering something brand new.  I'm in love with the shape of you.  .  One week in we let the story begin.  We're going out on our first date (mmmm).  You and me are thrifty, so go all you can eat.  Fill up your bag and I fill up a plate (mmmm).  We talk for hours and hours about the sweet and the sour.  And how your family is doing okay (mmmm).  And leave and get in a taxi, then kiss in the backseat.  Tell the driver make the radio play.  And I'm singing like.  .  Girl, you know I want your love.  Your love was handmade for somebody like me.  Come on now, follow my lead.  I may be crazy, don't mind me.  Say, boy, let's not talk too much.  Grab on my waist and put that body on me.  Come on now, follow my lead.  Come, come on now, follow my lead (mmmm).  .  I'm in love with the shape of you.  We push and pull like a magnet do.  Although my heart is falling too.  I'm in love with your body.  Last night you were in my room.  And now my bedsheets smell like you.  Every day discovering something brand new.  I'm in love with your body.  .  Oh I oh I oh I oh I.  I'm in love with your body.  Oh I oh I oh I oh I.  I'm in love with your body.  Oh I oh I oh I oh I.  I'm in love with your body.  Every day discovering something brand new.  I'm in love with the shape of you.  .  Come on, be my baby, come on.  Come on, be my baby, come on.  Come on, be my baby, come on.  Come on, be my baby, come on.  Come on, be my baby, come on.  Come on, be my baby, come on.  Come on, be my baby, come on.  Come on, be my baby, come on.  .  I'm in love with the shape of you.  We push and pull like a magnet do.  Although my heart is falling too.  I'm in love with your body.  Last night you were in my room.  And now my bedsheets smell like you.  Every day discovering something brand new.  I'm in love with your body.  .  Come on, be my baby, come on.  Come on, be my baby, come on.  I'm in love with your body.  Come on, be my baby, come on.  Come on, be my baby, come on.  I'm in love with your body.  Come on, be my baby, come on.  Come on, be my baby, come on.  I'm in love with your body.  Every day discovering something brand new.  I'm in love with the shape of you\"\n",
    "print(shape_of_you)\n",
    "(YouTubeVideo('JGwWNGJdvx8'))"
   ]
  },
  {
   "cell_type": "code",
   "execution_count": null,
   "metadata": {
    "collapsed": true
   },
   "outputs": [],
   "source": [
    "#Your code here!\n",
    "\n"
   ]
  },
  {
   "cell_type": "markdown",
   "metadata": {},
   "source": [
    "## 5.0.1 List"
   ]
  },
  {
   "cell_type": "markdown",
   "metadata": {},
   "source": [
    "<img src=\"https://storage.googleapis.com/bwdb/acceleratehk/python_class/Screen%20Shot%202017-10-21%20at%2012.26.59%20AM.png\"/>\n",
    "\n"
   ]
  },
  {
   "cell_type": "markdown",
   "metadata": {},
   "source": [
    "### 5.0.1 Python list is bounded by square brackets"
   ]
  },
  {
   "cell_type": "code",
   "execution_count": 186,
   "metadata": {
    "collapsed": true
   },
   "outputs": [],
   "source": [
    "num_list = [1,2,3,4,5]"
   ]
  },
  {
   "cell_type": "markdown",
   "metadata": {},
   "source": [
    "### 5.0.2 Python list can be selected by index (it begins in zero!)"
   ]
  },
  {
   "cell_type": "code",
   "execution_count": 193,
   "metadata": {},
   "outputs": [
    {
     "name": "stdout",
     "output_type": "stream",
     "text": [
      "[2, 3, 4, 5]\n",
      "3\n",
      "[5]\n",
      "5\n"
     ]
    }
   ],
   "source": [
    "print(num_list[0:5])\n",
    "print(num_list[1])\n",
    "print(num_list[3:])\n",
    "print(num_list[-1])"
   ]
  },
  {
   "cell_type": "markdown",
   "metadata": {},
   "source": [
    "### 5.0.2 Length of python list can be obtained by len()"
   ]
  },
  {
   "cell_type": "code",
   "execution_count": 188,
   "metadata": {},
   "outputs": [
    {
     "data": {
      "text/plain": [
       "5"
      ]
     },
     "execution_count": 188,
     "metadata": {},
     "output_type": "execute_result"
    }
   ],
   "source": [
    "len(num_list)"
   ]
  },
  {
   "cell_type": "markdown",
   "metadata": {},
   "source": [
    "### 5.0.3 Item can be removed by remove()"
   ]
  },
  {
   "cell_type": "code",
   "execution_count": 191,
   "metadata": {},
   "outputs": [],
   "source": [
    "num_list.remove(1)"
   ]
  },
  {
   "cell_type": "markdown",
   "metadata": {},
   "source": [
    "### 5.0.4 You can put any object in to list, even can create a list of lists!"
   ]
  },
  {
   "cell_type": "code",
   "execution_count": 195,
   "metadata": {},
   "outputs": [
    {
     "data": {
      "text/plain": [
       "[1, 2, [3, 4, 5]]"
      ]
     },
     "execution_count": 195,
     "metadata": {},
     "output_type": "execute_result"
    }
   ],
   "source": [
    "a = 1\n",
    "b = 2\n",
    "c = [3,4,5]\n",
    "[a,b,c]"
   ]
  },
  {
   "cell_type": "markdown",
   "metadata": {},
   "source": [
    "### 5.0.5 To combine list, you can use +"
   ]
  },
  {
   "cell_type": "code",
   "execution_count": 210,
   "metadata": {},
   "outputs": [
    {
     "data": {
      "text/plain": [
       "['Central', 'Wanchai', 'tst', 'mong kok']"
      ]
     },
     "execution_count": 210,
     "metadata": {},
     "output_type": "execute_result"
    }
   ],
   "source": [
    "hkisland = ['Central','Wanchai']\n",
    "kowloon = ['tst','mong kok']\n",
    "hk = hkisland+kowloon\n",
    "hk"
   ]
  },
  {
   "cell_type": "code",
   "execution_count": 211,
   "metadata": {},
   "outputs": [
    {
     "data": {
      "text/plain": [
       "0"
      ]
     },
     "execution_count": 211,
     "metadata": {},
     "output_type": "execute_result"
    }
   ],
   "source": [
    "hk.index('Central')"
   ]
  },
  {
   "cell_type": "markdown",
   "metadata": {},
   "source": [
    "### 5.0.6 To add item to list, you can use .append(). You can also create an empty list using [], and put items in it"
   ]
  },
  {
   "cell_type": "code",
   "execution_count": 201,
   "metadata": {},
   "outputs": [
    {
     "name": "stdout",
     "output_type": "stream",
     "text": [
      "[1, 2.0, 'three']\n"
     ]
    }
   ],
   "source": [
    "empty_list = []\n",
    "empty_list.append(1)\n",
    "empty_list.append(2.0)\n",
    "empty_list.append('three')\n",
    "print(empty_list)"
   ]
  },
  {
   "cell_type": "markdown",
   "metadata": {},
   "source": [
    "### 5.0.7 You can also split string to create a list"
   ]
  },
  {
   "cell_type": "code",
   "execution_count": 183,
   "metadata": {},
   "outputs": [],
   "source": [
    "shape_of_you_list = shape_of_you.split('.')\n",
    "shape_of_you_list"
   ]
  },
  {
   "cell_type": "markdown",
   "metadata": {},
   "source": [
    "## Exercise 5.07  - find in the song shape of you\n",
    "1. Find out the indexes of all the \"baby\" in the song"
   ]
  },
  {
   "cell_type": "code",
   "execution_count": 215,
   "metadata": {},
   "outputs": [
    {
     "data": {
      "text/plain": [
       "['The',\n",
       " 'club',\n",
       " \"isn't\",\n",
       " 'the',\n",
       " 'best',\n",
       " 'place',\n",
       " 'to',\n",
       " 'find',\n",
       " 'a',\n",
       " 'lover.',\n",
       " 'So',\n",
       " 'the',\n",
       " 'bar',\n",
       " 'is',\n",
       " 'where',\n",
       " 'I',\n",
       " 'go',\n",
       " '(mmmm).',\n",
       " 'Me',\n",
       " 'and',\n",
       " 'my',\n",
       " 'friends',\n",
       " 'at',\n",
       " 'the',\n",
       " 'table',\n",
       " 'doing',\n",
       " 'shots.',\n",
       " 'Drinking',\n",
       " 'fast',\n",
       " 'and',\n",
       " 'then',\n",
       " 'we',\n",
       " 'talk',\n",
       " 'slow',\n",
       " '(mmmm).',\n",
       " 'And',\n",
       " 'you',\n",
       " 'come',\n",
       " 'over',\n",
       " 'and',\n",
       " 'start',\n",
       " 'up',\n",
       " 'a',\n",
       " 'conversation',\n",
       " 'with',\n",
       " 'just',\n",
       " 'me.',\n",
       " 'And',\n",
       " 'trust',\n",
       " 'me',\n",
       " \"I'll\",\n",
       " 'give',\n",
       " 'it',\n",
       " 'a',\n",
       " 'chance',\n",
       " 'now',\n",
       " '(mmmm).',\n",
       " 'Take',\n",
       " 'my',\n",
       " 'hand,',\n",
       " 'stop,',\n",
       " 'put',\n",
       " 'Van',\n",
       " 'The',\n",
       " 'Man',\n",
       " 'on',\n",
       " 'the',\n",
       " 'jukebox.',\n",
       " 'And',\n",
       " 'then',\n",
       " 'we',\n",
       " 'start',\n",
       " 'to',\n",
       " 'dance.',\n",
       " 'And',\n",
       " 'now',\n",
       " \"I'm\",\n",
       " 'singing',\n",
       " 'like.',\n",
       " '.',\n",
       " 'Girl,',\n",
       " 'you',\n",
       " 'know',\n",
       " 'I',\n",
       " 'want',\n",
       " 'your',\n",
       " 'love.',\n",
       " 'Your',\n",
       " 'love',\n",
       " 'was',\n",
       " 'handmade',\n",
       " 'for',\n",
       " 'somebody',\n",
       " 'like',\n",
       " 'me.',\n",
       " 'Come',\n",
       " 'on',\n",
       " 'now,',\n",
       " 'follow',\n",
       " 'my',\n",
       " 'lead.',\n",
       " 'I',\n",
       " 'may',\n",
       " 'be',\n",
       " 'crazy,',\n",
       " \"don't\",\n",
       " 'mind',\n",
       " 'me.',\n",
       " 'Say,',\n",
       " 'boy,',\n",
       " \"let's\",\n",
       " 'not',\n",
       " 'talk',\n",
       " 'too',\n",
       " 'much.',\n",
       " 'Grab',\n",
       " 'on',\n",
       " 'my',\n",
       " 'waist',\n",
       " 'and',\n",
       " 'put',\n",
       " 'that',\n",
       " 'body',\n",
       " 'on',\n",
       " 'me.',\n",
       " 'Come',\n",
       " 'on',\n",
       " 'now,',\n",
       " 'follow',\n",
       " 'my',\n",
       " 'lead.',\n",
       " 'Come,',\n",
       " 'come',\n",
       " 'on',\n",
       " 'now,',\n",
       " 'follow',\n",
       " 'my',\n",
       " 'lead',\n",
       " '(mmmm).',\n",
       " '.',\n",
       " \"I'm\",\n",
       " 'in',\n",
       " 'love',\n",
       " 'with',\n",
       " 'the',\n",
       " 'shape',\n",
       " 'of',\n",
       " 'you.',\n",
       " 'We',\n",
       " 'push',\n",
       " 'and',\n",
       " 'pull',\n",
       " 'like',\n",
       " 'a',\n",
       " 'magnet',\n",
       " 'do.',\n",
       " 'Although',\n",
       " 'my',\n",
       " 'heart',\n",
       " 'is',\n",
       " 'falling',\n",
       " 'too.',\n",
       " \"I'm\",\n",
       " 'in',\n",
       " 'love',\n",
       " 'with',\n",
       " 'your',\n",
       " 'body.',\n",
       " 'Last',\n",
       " 'night',\n",
       " 'you',\n",
       " 'were',\n",
       " 'in',\n",
       " 'my',\n",
       " 'room.',\n",
       " 'And',\n",
       " 'now',\n",
       " 'my',\n",
       " 'bedsheets',\n",
       " 'smell',\n",
       " 'like',\n",
       " 'you.',\n",
       " 'Every',\n",
       " 'day',\n",
       " 'discovering',\n",
       " 'something',\n",
       " 'brand',\n",
       " 'new.',\n",
       " \"I'm\",\n",
       " 'in',\n",
       " 'love',\n",
       " 'with',\n",
       " 'your',\n",
       " 'body.',\n",
       " '.',\n",
       " 'Oh',\n",
       " 'I',\n",
       " 'oh',\n",
       " 'I',\n",
       " 'oh',\n",
       " 'I',\n",
       " 'oh',\n",
       " 'I.',\n",
       " \"I'm\",\n",
       " 'in',\n",
       " 'love',\n",
       " 'with',\n",
       " 'your',\n",
       " 'body.',\n",
       " 'Oh',\n",
       " 'I',\n",
       " 'oh',\n",
       " 'I',\n",
       " 'oh',\n",
       " 'I',\n",
       " 'oh',\n",
       " 'I.',\n",
       " \"I'm\",\n",
       " 'in',\n",
       " 'love',\n",
       " 'with',\n",
       " 'your',\n",
       " 'body.',\n",
       " 'Oh',\n",
       " 'I',\n",
       " 'oh',\n",
       " 'I',\n",
       " 'oh',\n",
       " 'I',\n",
       " 'oh',\n",
       " 'I.',\n",
       " \"I'm\",\n",
       " 'in',\n",
       " 'love',\n",
       " 'with',\n",
       " 'your',\n",
       " 'body.',\n",
       " 'Every',\n",
       " 'day',\n",
       " 'discovering',\n",
       " 'something',\n",
       " 'brand',\n",
       " 'new.',\n",
       " \"I'm\",\n",
       " 'in',\n",
       " 'love',\n",
       " 'with',\n",
       " 'the',\n",
       " 'shape',\n",
       " 'of',\n",
       " 'you.',\n",
       " '.',\n",
       " 'One',\n",
       " 'week',\n",
       " 'in',\n",
       " 'we',\n",
       " 'let',\n",
       " 'the',\n",
       " 'story',\n",
       " 'begin.',\n",
       " \"We're\",\n",
       " 'going',\n",
       " 'out',\n",
       " 'on',\n",
       " 'our',\n",
       " 'first',\n",
       " 'date',\n",
       " '(mmmm).',\n",
       " 'You',\n",
       " 'and',\n",
       " 'me',\n",
       " 'are',\n",
       " 'thrifty,',\n",
       " 'so',\n",
       " 'go',\n",
       " 'all',\n",
       " 'you',\n",
       " 'can',\n",
       " 'eat.',\n",
       " 'Fill',\n",
       " 'up',\n",
       " 'your',\n",
       " 'bag',\n",
       " 'and',\n",
       " 'I',\n",
       " 'fill',\n",
       " 'up',\n",
       " 'a',\n",
       " 'plate',\n",
       " '(mmmm).',\n",
       " 'We',\n",
       " 'talk',\n",
       " 'for',\n",
       " 'hours',\n",
       " 'and',\n",
       " 'hours',\n",
       " 'about',\n",
       " 'the',\n",
       " 'sweet',\n",
       " 'and',\n",
       " 'the',\n",
       " 'sour.',\n",
       " 'And',\n",
       " 'how',\n",
       " 'your',\n",
       " 'family',\n",
       " 'is',\n",
       " 'doing',\n",
       " 'okay',\n",
       " '(mmmm).',\n",
       " 'And',\n",
       " 'leave',\n",
       " 'and',\n",
       " 'get',\n",
       " 'in',\n",
       " 'a',\n",
       " 'taxi,',\n",
       " 'then',\n",
       " 'kiss',\n",
       " 'in',\n",
       " 'the',\n",
       " 'backseat.',\n",
       " 'Tell',\n",
       " 'the',\n",
       " 'driver',\n",
       " 'make',\n",
       " 'the',\n",
       " 'radio',\n",
       " 'play.',\n",
       " 'And',\n",
       " \"I'm\",\n",
       " 'singing',\n",
       " 'like.',\n",
       " '.',\n",
       " 'Girl,',\n",
       " 'you',\n",
       " 'know',\n",
       " 'I',\n",
       " 'want',\n",
       " 'your',\n",
       " 'love.',\n",
       " 'Your',\n",
       " 'love',\n",
       " 'was',\n",
       " 'handmade',\n",
       " 'for',\n",
       " 'somebody',\n",
       " 'like',\n",
       " 'me.',\n",
       " 'Come',\n",
       " 'on',\n",
       " 'now,',\n",
       " 'follow',\n",
       " 'my',\n",
       " 'lead.',\n",
       " 'I',\n",
       " 'may',\n",
       " 'be',\n",
       " 'crazy,',\n",
       " \"don't\",\n",
       " 'mind',\n",
       " 'me.',\n",
       " 'Say,',\n",
       " 'boy,',\n",
       " \"let's\",\n",
       " 'not',\n",
       " 'talk',\n",
       " 'too',\n",
       " 'much.',\n",
       " 'Grab',\n",
       " 'on',\n",
       " 'my',\n",
       " 'waist',\n",
       " 'and',\n",
       " 'put',\n",
       " 'that',\n",
       " 'body',\n",
       " 'on',\n",
       " 'me.',\n",
       " 'Come',\n",
       " 'on',\n",
       " 'now,',\n",
       " 'follow',\n",
       " 'my',\n",
       " 'lead.',\n",
       " 'Come,',\n",
       " 'come',\n",
       " 'on',\n",
       " 'now,',\n",
       " 'follow',\n",
       " 'my',\n",
       " 'lead',\n",
       " '(mmmm).',\n",
       " '.',\n",
       " \"I'm\",\n",
       " 'in',\n",
       " 'love',\n",
       " 'with',\n",
       " 'the',\n",
       " 'shape',\n",
       " 'of',\n",
       " 'you.',\n",
       " 'We',\n",
       " 'push',\n",
       " 'and',\n",
       " 'pull',\n",
       " 'like',\n",
       " 'a',\n",
       " 'magnet',\n",
       " 'do.',\n",
       " 'Although',\n",
       " 'my',\n",
       " 'heart',\n",
       " 'is',\n",
       " 'falling',\n",
       " 'too.',\n",
       " \"I'm\",\n",
       " 'in',\n",
       " 'love',\n",
       " 'with',\n",
       " 'your',\n",
       " 'body.',\n",
       " 'Last',\n",
       " 'night',\n",
       " 'you',\n",
       " 'were',\n",
       " 'in',\n",
       " 'my',\n",
       " 'room.',\n",
       " 'And',\n",
       " 'now',\n",
       " 'my',\n",
       " 'bedsheets',\n",
       " 'smell',\n",
       " 'like',\n",
       " 'you.',\n",
       " 'Every',\n",
       " 'day',\n",
       " 'discovering',\n",
       " 'something',\n",
       " 'brand',\n",
       " 'new.',\n",
       " \"I'm\",\n",
       " 'in',\n",
       " 'love',\n",
       " 'with',\n",
       " 'your',\n",
       " 'body.',\n",
       " '.',\n",
       " 'Oh',\n",
       " 'I',\n",
       " 'oh',\n",
       " 'I',\n",
       " 'oh',\n",
       " 'I',\n",
       " 'oh',\n",
       " 'I.',\n",
       " \"I'm\",\n",
       " 'in',\n",
       " 'love',\n",
       " 'with',\n",
       " 'your',\n",
       " 'body.',\n",
       " 'Oh',\n",
       " 'I',\n",
       " 'oh',\n",
       " 'I',\n",
       " 'oh',\n",
       " 'I',\n",
       " 'oh',\n",
       " 'I.',\n",
       " \"I'm\",\n",
       " 'in',\n",
       " 'love',\n",
       " 'with',\n",
       " 'your',\n",
       " 'body.',\n",
       " 'Oh',\n",
       " 'I',\n",
       " 'oh',\n",
       " 'I',\n",
       " 'oh',\n",
       " 'I',\n",
       " 'oh',\n",
       " 'I.',\n",
       " \"I'm\",\n",
       " 'in',\n",
       " 'love',\n",
       " 'with',\n",
       " 'your',\n",
       " 'body.',\n",
       " 'Every',\n",
       " 'day',\n",
       " 'discovering',\n",
       " 'something',\n",
       " 'brand',\n",
       " 'new.',\n",
       " \"I'm\",\n",
       " 'in',\n",
       " 'love',\n",
       " 'with',\n",
       " 'the',\n",
       " 'shape',\n",
       " 'of',\n",
       " 'you.',\n",
       " '.',\n",
       " 'Come',\n",
       " 'on,',\n",
       " 'be',\n",
       " 'my',\n",
       " 'baby,',\n",
       " 'come',\n",
       " 'on.',\n",
       " 'Come',\n",
       " 'on,',\n",
       " 'be',\n",
       " 'my',\n",
       " 'baby,',\n",
       " 'come',\n",
       " 'on.',\n",
       " 'Come',\n",
       " 'on,',\n",
       " 'be',\n",
       " 'my',\n",
       " 'baby,',\n",
       " 'come',\n",
       " 'on.',\n",
       " 'Come',\n",
       " 'on,',\n",
       " 'be',\n",
       " 'my',\n",
       " 'baby,',\n",
       " 'come',\n",
       " 'on.',\n",
       " 'Come',\n",
       " 'on,',\n",
       " 'be',\n",
       " 'my',\n",
       " 'baby,',\n",
       " 'come',\n",
       " 'on.',\n",
       " 'Come',\n",
       " 'on,',\n",
       " 'be',\n",
       " 'my',\n",
       " 'baby,',\n",
       " 'come',\n",
       " 'on.',\n",
       " 'Come',\n",
       " 'on,',\n",
       " 'be',\n",
       " 'my',\n",
       " 'baby,',\n",
       " 'come',\n",
       " 'on.',\n",
       " 'Come',\n",
       " 'on,',\n",
       " 'be',\n",
       " 'my',\n",
       " 'baby,',\n",
       " 'come',\n",
       " 'on.',\n",
       " '.',\n",
       " \"I'm\",\n",
       " 'in',\n",
       " 'love',\n",
       " 'with',\n",
       " 'the',\n",
       " 'shape',\n",
       " 'of',\n",
       " 'you.',\n",
       " 'We',\n",
       " 'push',\n",
       " 'and',\n",
       " 'pull',\n",
       " 'like',\n",
       " 'a',\n",
       " 'magnet',\n",
       " 'do.',\n",
       " 'Although',\n",
       " 'my',\n",
       " 'heart',\n",
       " 'is',\n",
       " 'falling',\n",
       " 'too.',\n",
       " \"I'm\",\n",
       " 'in',\n",
       " 'love',\n",
       " 'with',\n",
       " 'your',\n",
       " 'body.',\n",
       " 'Last',\n",
       " 'night',\n",
       " 'you',\n",
       " 'were',\n",
       " 'in',\n",
       " 'my',\n",
       " 'room.',\n",
       " 'And',\n",
       " 'now',\n",
       " 'my',\n",
       " 'bedsheets',\n",
       " 'smell',\n",
       " 'like',\n",
       " 'you.',\n",
       " 'Every',\n",
       " 'day',\n",
       " 'discovering',\n",
       " 'something',\n",
       " 'brand',\n",
       " 'new.',\n",
       " \"I'm\",\n",
       " 'in',\n",
       " 'love',\n",
       " 'with',\n",
       " 'your',\n",
       " 'body.',\n",
       " '.',\n",
       " 'Come',\n",
       " 'on,',\n",
       " 'be',\n",
       " 'my',\n",
       " 'baby,',\n",
       " 'come',\n",
       " 'on.',\n",
       " 'Come',\n",
       " 'on,',\n",
       " 'be',\n",
       " 'my',\n",
       " 'baby,',\n",
       " 'come',\n",
       " 'on.',\n",
       " \"I'm\",\n",
       " 'in',\n",
       " 'love',\n",
       " 'with',\n",
       " 'your',\n",
       " 'body.',\n",
       " 'Come',\n",
       " 'on,',\n",
       " 'be',\n",
       " 'my',\n",
       " 'baby,',\n",
       " 'come',\n",
       " 'on.',\n",
       " 'Come',\n",
       " 'on,',\n",
       " 'be',\n",
       " 'my',\n",
       " 'baby,',\n",
       " 'come',\n",
       " 'on.',\n",
       " \"I'm\",\n",
       " 'in',\n",
       " 'love',\n",
       " 'with',\n",
       " 'your',\n",
       " 'body.',\n",
       " 'Come',\n",
       " 'on,',\n",
       " 'be',\n",
       " 'my',\n",
       " 'baby,',\n",
       " 'come',\n",
       " 'on.',\n",
       " 'Come',\n",
       " 'on,',\n",
       " 'be',\n",
       " 'my',\n",
       " 'baby,',\n",
       " 'come',\n",
       " 'on.',\n",
       " \"I'm\",\n",
       " 'in',\n",
       " 'love',\n",
       " 'with',\n",
       " 'your',\n",
       " 'body.',\n",
       " 'Every',\n",
       " 'day',\n",
       " 'discovering',\n",
       " 'something',\n",
       " 'brand',\n",
       " 'new.',\n",
       " \"I'm\",\n",
       " 'in',\n",
       " 'love',\n",
       " 'with',\n",
       " 'the',\n",
       " 'shape',\n",
       " 'of',\n",
       " 'you']"
      ]
     },
     "execution_count": 215,
     "metadata": {},
     "output_type": "execute_result"
    }
   ],
   "source": [
    "shape_of_you.split()"
   ]
  },
  {
   "cell_type": "code",
   "execution_count": null,
   "metadata": {
    "collapsed": true
   },
   "outputs": [],
   "source": []
  },
  {
   "cell_type": "markdown",
   "metadata": {},
   "source": [
    "## 6.0.0 if statements  : Where Indentation matters!!\n"
   ]
  },
  {
   "cell_type": "markdown",
   "metadata": {},
   "source": [
    "This works a bit like the function in excel"
   ]
  },
  {
   "cell_type": "code",
   "execution_count": 204,
   "metadata": {},
   "outputs": [
    {
     "name": "stdout",
     "output_type": "stream",
     "text": [
      "buy Samsung!\n"
     ]
    }
   ],
   "source": [
    "iphone = 9000\n",
    "samsung = 5000\n",
    "if(iphone>samsung):\n",
    "    print('buy Samsung!')\n",
    "else:\n",
    "    print('buy iphone!')"
   ]
  },
  {
   "cell_type": "raw",
   "metadata": {},
   "source": [
    "## the indentation is used to identfy code blocks.\n",
    "if condition_1 :\n",
    "    do something \n",
    "elif condition_2 :\n",
    "    do something else\n",
    "else :\n",
    "    do something else"
   ]
  },
  {
   "cell_type": "code",
   "execution_count": 227,
   "metadata": {},
   "outputs": [
    {
     "name": "stdout",
     "output_type": "stream",
     "text": [
      "can see a rated R movie\n"
     ]
    }
   ],
   "source": [
    "if age > 17: \n",
    "  print(\"can see a rated R movie\")\n",
    "elif age < 17 and age > 12:\n",
    "  print(\"can see a rated PG-13 movie\")\n",
    "else: \n",
    "  print(\"can only see rated PG movies\")"
   ]
  },
  {
   "cell_type": "markdown",
   "metadata": {},
   "source": [
    "## Exercise 6.0.1 \n",
    "\n",
    "Ask the user for a number. Depending on whether the number is even or odd, print out an appropriate message to the user. Hint: how does an even / odd number react differently when divided by 2?\n",
    "\n",
    "Extras:\n",
    "\n",
    "If the number is a multiple of 4, print out a different message.\n",
    "Ask the user for two numbers: one number to check (call it num) and one number to divide by (check). If check divides evenly into num, tell that to the user. If not, print a different appropriate message."
   ]
  },
  {
   "cell_type": "code",
   "execution_count": null,
   "metadata": {
    "collapsed": true
   },
   "outputs": [],
   "source": [
    "#your code here!\n",
    "\n"
   ]
  },
  {
   "cell_type": "markdown",
   "metadata": {},
   "source": [
    "## 7.0.1 For loops"
   ]
  },
  {
   "cell_type": "markdown",
   "metadata": {},
   "source": [
    "For loops is a way to ask your computer to repeatedly do a task - until it finished the no. of times to keep on doing the same thing ! (Kind of like a slave!)"
   ]
  },
  {
   "cell_type": "markdown",
   "metadata": {},
   "source": [
    "##for loops:"
   ]
  },
  {
   "cell_type": "raw",
   "metadata": {},
   "source": [
    "for i in some_range:\n",
    "    do something with i\n"
   ]
  },
  {
   "cell_type": "code",
   "execution_count": 228,
   "metadata": {},
   "outputs": [
    {
     "data": {
      "text/plain": [
       "[1, 2, 3, 4, 5, 6, 7, 8, 9, 10]"
      ]
     },
     "execution_count": 228,
     "metadata": {},
     "output_type": "execute_result"
    }
   ],
   "source": [
    "## range(i,j) retuns integers beween i and j-1 \n",
    "range(1,11)"
   ]
  },
  {
   "cell_type": "code",
   "execution_count": 231,
   "metadata": {},
   "outputs": [
    {
     "name": "stdout",
     "output_type": "stream",
     "text": [
      "1\n",
      "3\n",
      "6\n",
      "10\n",
      "15\n",
      "21\n",
      "28\n",
      "36\n",
      "45\n",
      "55\n"
     ]
    }
   ],
   "source": [
    "## sum of first 10 integers\n",
    "\n",
    "result=0\n",
    "for i in range(1,11):\n",
    "    result = result+i\n",
    "    print result"
   ]
  },
  {
   "cell_type": "code",
   "execution_count": 236,
   "metadata": {},
   "outputs": [
    {
     "name": "stdout",
     "output_type": "stream",
     "text": [
      "today I purchased somebananas\n",
      "today I purchased somechocolate\n",
      "today I purchased somecarrots\n"
     ]
    }
   ],
   "source": [
    "shopping_list=[\"bananas\", \"chocolate\", \"carrots\"]\n",
    "## lists are iterators. \n",
    "## We can automatically loop through list elements without using indexes\n",
    "for thing in shopping_list:\n",
    "    print(\"today I purchased some\" + thing)\n",
    "             "
   ]
  },
  {
   "cell_type": "markdown",
   "metadata": {},
   "source": [
    "## Exercise 7.0.1:\n",
    "\n",
    "Using \"for loops \"  and  \"if statements \" answer the following questions :\n",
    "\n",
    "- who among us has the longest First name? and how long is it? ...... this is a very tricky exercise as it will imply that we can spell all our names correctly :) :) \n",
    "\n",
    "- and what about the shortest name?\n",
    "\n",
    "These are \"probably\" our names : \n",
    "\n",
    "Xiaoyan ,  Maitreya , Jason , Qihui , Chuck , Jeremy , Mihwa , Lina , Huijun , Raul , Warintra , Abhay \n",
    "\n",
    "\n"
   ]
  },
  {
   "cell_type": "code",
   "execution_count": null,
   "metadata": {},
   "outputs": [],
   "source": [
    "## some tips \n",
    "\n",
    "## maybe I want to define a list containing our names \n",
    "## and then go through each of the names and see how long they are , and note down the longest one(s)."
   ]
  },
  {
   "cell_type": "markdown",
   "metadata": {},
   "source": [
    "## 8.0.1 Functions"
   ]
  },
  {
   "cell_type": "markdown",
   "metadata": {},
   "source": [
    "Function is one of the most important concept in programming. It packs a group of logic, that will be used repeatedly.\n",
    "Every function will have an input argument, and an output"
   ]
  },
  {
   "cell_type": "code",
   "execution_count": 237,
   "metadata": {},
   "outputs": [],
   "source": [
    "def multiply(a,b):\n",
    "    return(a*b)"
   ]
  },
  {
   "cell_type": "markdown",
   "metadata": {},
   "source": [
    "# Finally\n",
    "\n",
    "You should try finish this at home :)\n",
    "http://www.practicepython.org/"
   ]
  }
 ],
 "metadata": {
  "kernelspec": {
   "display_name": "Python 2",
   "language": "python",
   "name": "python2"
  },
  "language_info": {
   "codemirror_mode": {
    "name": "ipython",
    "version": 2
   },
   "file_extension": ".py",
   "mimetype": "text/x-python",
   "name": "python",
   "nbconvert_exporter": "python",
   "pygments_lexer": "ipython2",
   "version": "2.7.13"
  }
 },
 "nbformat": 4,
 "nbformat_minor": 1
}
